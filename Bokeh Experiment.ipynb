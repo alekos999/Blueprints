{
 "cells": [
  {
   "cell_type": "code",
   "execution_count": 1,
   "metadata": {
    "collapsed": true,
    "scrolled": true
   },
   "outputs": [],
   "source": [
    "import pandas as pd\n",
    "population = pd.read_csv('C:/Users/akosciansky/Desktop/Bokeh/population.csv')\n",
    "life = pd.read_csv('C:/Users/akosciansky/Desktop/Bokeh/life.csv')\n",
    "fertility = pd.read_csv('C:/Users/akosciansky/Desktop/Bokeh/fertility.csv')"
   ]
  },
  {
   "cell_type": "code",
   "execution_count": 2,
   "metadata": {
    "collapsed": true,
    "scrolled": true
   },
   "outputs": [],
   "source": [
    "life_melt = pd.melt(life, id_vars='Life expectancy', value_name='Life Expectancy Years', var_name='Year')\n",
    "life_melt.rename(columns={'Life expectancy': 'Country'}, inplace=True)"
   ]
  },
  {
   "cell_type": "code",
   "execution_count": 3,
   "metadata": {
    "collapsed": true
   },
   "outputs": [],
   "source": [
    "population_melt = pd.melt(population, id_vars='Total population', value_name='Population', var_name='Year')\n",
    "population_melt.rename(columns={'Total population': 'Country'}, inplace=True)"
   ]
  },
  {
   "cell_type": "code",
   "execution_count": 4,
   "metadata": {
    "collapsed": true
   },
   "outputs": [],
   "source": [
    "fertility_melt = pd.melt(fertility, id_vars='Total fertility rate', value_name='Fertility Rate', var_name='Year')\n",
    "fertility_melt.rename(columns={'Total fertility rate': 'Country'}, inplace=True)"
   ]
  },
  {
   "cell_type": "code",
   "execution_count": 5,
   "metadata": {
    "collapsed": true
   },
   "outputs": [],
   "source": [
    "population_melt['Population'] = population_melt['Population'].str.replace(',', '')\n",
    "population_melt['Population'] = population_melt['Population'].astype('float')"
   ]
  },
  {
   "cell_type": "code",
   "execution_count": 6,
   "metadata": {},
   "outputs": [
    {
     "data": {
      "text/html": [
       "<div>\n",
       "<style scoped>\n",
       "    .dataframe tbody tr th:only-of-type {\n",
       "        vertical-align: middle;\n",
       "    }\n",
       "\n",
       "    .dataframe tbody tr th {\n",
       "        vertical-align: top;\n",
       "    }\n",
       "\n",
       "    .dataframe thead th {\n",
       "        text-align: right;\n",
       "    }\n",
       "</style>\n",
       "<table border=\"1\" class=\"dataframe\">\n",
       "  <thead>\n",
       "    <tr style=\"text-align: right;\">\n",
       "      <th></th>\n",
       "      <th>Country</th>\n",
       "      <th>Year</th>\n",
       "      <th>Life Expectancy Years</th>\n",
       "      <th>Fertility Rate</th>\n",
       "      <th>Population</th>\n",
       "    </tr>\n",
       "  </thead>\n",
       "  <tbody>\n",
       "    <tr>\n",
       "      <th>0</th>\n",
       "      <td>Abkhazia</td>\n",
       "      <td>1800</td>\n",
       "      <td>NaN</td>\n",
       "      <td>NaN</td>\n",
       "      <td>NaN</td>\n",
       "    </tr>\n",
       "    <tr>\n",
       "      <th>1</th>\n",
       "      <td>Afghanistan</td>\n",
       "      <td>1800</td>\n",
       "      <td>28.21</td>\n",
       "      <td>7.00</td>\n",
       "      <td>3280000.0</td>\n",
       "    </tr>\n",
       "    <tr>\n",
       "      <th>2</th>\n",
       "      <td>Akrotiri and Dhekelia</td>\n",
       "      <td>1800</td>\n",
       "      <td>NaN</td>\n",
       "      <td>NaN</td>\n",
       "      <td>NaN</td>\n",
       "    </tr>\n",
       "    <tr>\n",
       "      <th>3</th>\n",
       "      <td>Albania</td>\n",
       "      <td>1800</td>\n",
       "      <td>35.40</td>\n",
       "      <td>4.60</td>\n",
       "      <td>410445.0</td>\n",
       "    </tr>\n",
       "    <tr>\n",
       "      <th>4</th>\n",
       "      <td>Algeria</td>\n",
       "      <td>1800</td>\n",
       "      <td>28.82</td>\n",
       "      <td>6.99</td>\n",
       "      <td>2503218.0</td>\n",
       "    </tr>\n",
       "  </tbody>\n",
       "</table>\n",
       "</div>"
      ],
      "text/plain": [
       "                 Country  Year  Life Expectancy Years  Fertility Rate  \\\n",
       "0               Abkhazia  1800                    NaN             NaN   \n",
       "1            Afghanistan  1800                  28.21            7.00   \n",
       "2  Akrotiri and Dhekelia  1800                    NaN             NaN   \n",
       "3                Albania  1800                  35.40            4.60   \n",
       "4                Algeria  1800                  28.82            6.99   \n",
       "\n",
       "   Population  \n",
       "0         NaN  \n",
       "1   3280000.0  \n",
       "2         NaN  \n",
       "3    410445.0  \n",
       "4   2503218.0  "
      ]
     },
     "execution_count": 6,
     "metadata": {},
     "output_type": "execute_result"
    }
   ],
   "source": [
    "data = pd.merge(life_melt, fertility_melt, on=['Country', 'Year'], how='left')\n",
    "data = pd.merge(data, population_melt, on=['Country', 'Year'], how='left')\n",
    "data.head()"
   ]
  },
  {
   "cell_type": "code",
   "execution_count": 7,
   "metadata": {},
   "outputs": [
    {
     "data": {
      "text/html": [
       "<div>\n",
       "<style scoped>\n",
       "    .dataframe tbody tr th:only-of-type {\n",
       "        vertical-align: middle;\n",
       "    }\n",
       "\n",
       "    .dataframe tbody tr th {\n",
       "        vertical-align: top;\n",
       "    }\n",
       "\n",
       "    .dataframe thead th {\n",
       "        text-align: right;\n",
       "    }\n",
       "</style>\n",
       "<table border=\"1\" class=\"dataframe\">\n",
       "  <thead>\n",
       "    <tr style=\"text-align: right;\">\n",
       "      <th></th>\n",
       "      <th>Country</th>\n",
       "      <th>year</th>\n",
       "      <th>life</th>\n",
       "      <th>fertility</th>\n",
       "      <th>population</th>\n",
       "    </tr>\n",
       "  </thead>\n",
       "  <tbody>\n",
       "    <tr>\n",
       "      <th>0</th>\n",
       "      <td>Abkhazia</td>\n",
       "      <td>1800</td>\n",
       "      <td>NaN</td>\n",
       "      <td>NaN</td>\n",
       "      <td>NaN</td>\n",
       "    </tr>\n",
       "    <tr>\n",
       "      <th>1</th>\n",
       "      <td>Afghanistan</td>\n",
       "      <td>1800</td>\n",
       "      <td>28.21</td>\n",
       "      <td>7.00</td>\n",
       "      <td>3280000.0</td>\n",
       "    </tr>\n",
       "    <tr>\n",
       "      <th>2</th>\n",
       "      <td>Akrotiri and Dhekelia</td>\n",
       "      <td>1800</td>\n",
       "      <td>NaN</td>\n",
       "      <td>NaN</td>\n",
       "      <td>NaN</td>\n",
       "    </tr>\n",
       "    <tr>\n",
       "      <th>3</th>\n",
       "      <td>Albania</td>\n",
       "      <td>1800</td>\n",
       "      <td>35.40</td>\n",
       "      <td>4.60</td>\n",
       "      <td>410445.0</td>\n",
       "    </tr>\n",
       "    <tr>\n",
       "      <th>4</th>\n",
       "      <td>Algeria</td>\n",
       "      <td>1800</td>\n",
       "      <td>28.82</td>\n",
       "      <td>6.99</td>\n",
       "      <td>2503218.0</td>\n",
       "    </tr>\n",
       "  </tbody>\n",
       "</table>\n",
       "</div>"
      ],
      "text/plain": [
       "                 Country  year   life  fertility  population\n",
       "0               Abkhazia  1800    NaN        NaN         NaN\n",
       "1            Afghanistan  1800  28.21       7.00   3280000.0\n",
       "2  Akrotiri and Dhekelia  1800    NaN        NaN         NaN\n",
       "3                Albania  1800  35.40       4.60    410445.0\n",
       "4                Algeria  1800  28.82       6.99   2503218.0"
      ]
     },
     "execution_count": 7,
     "metadata": {},
     "output_type": "execute_result"
    }
   ],
   "source": [
    "data.columns = ['Country', 'year', 'life', 'fertility', 'population']\n",
    "data.head()"
   ]
  },
  {
   "cell_type": "code",
   "execution_count": 8,
   "metadata": {
    "scrolled": true
   },
   "outputs": [
    {
     "data": {
      "text/html": [
       "<div>\n",
       "<style scoped>\n",
       "    .dataframe tbody tr th:only-of-type {\n",
       "        vertical-align: middle;\n",
       "    }\n",
       "\n",
       "    .dataframe tbody tr th {\n",
       "        vertical-align: top;\n",
       "    }\n",
       "\n",
       "    .dataframe thead th {\n",
       "        text-align: right;\n",
       "    }\n",
       "</style>\n",
       "<table border=\"1\" class=\"dataframe\">\n",
       "  <thead>\n",
       "    <tr style=\"text-align: right;\">\n",
       "      <th></th>\n",
       "      <th>Country</th>\n",
       "      <th>year</th>\n",
       "      <th>life</th>\n",
       "      <th>fertility</th>\n",
       "      <th>population</th>\n",
       "    </tr>\n",
       "  </thead>\n",
       "  <tbody>\n",
       "    <tr>\n",
       "      <th>1</th>\n",
       "      <td>Afghanistan</td>\n",
       "      <td>1800</td>\n",
       "      <td>28.21</td>\n",
       "      <td>7.00</td>\n",
       "      <td>3280000.0</td>\n",
       "    </tr>\n",
       "    <tr>\n",
       "      <th>3</th>\n",
       "      <td>Albania</td>\n",
       "      <td>1800</td>\n",
       "      <td>35.40</td>\n",
       "      <td>4.60</td>\n",
       "      <td>410445.0</td>\n",
       "    </tr>\n",
       "    <tr>\n",
       "      <th>4</th>\n",
       "      <td>Algeria</td>\n",
       "      <td>1800</td>\n",
       "      <td>28.82</td>\n",
       "      <td>6.99</td>\n",
       "      <td>2503218.0</td>\n",
       "    </tr>\n",
       "    <tr>\n",
       "      <th>7</th>\n",
       "      <td>Angola</td>\n",
       "      <td>1800</td>\n",
       "      <td>26.98</td>\n",
       "      <td>6.93</td>\n",
       "      <td>1567028.0</td>\n",
       "    </tr>\n",
       "    <tr>\n",
       "      <th>9</th>\n",
       "      <td>Antigua and Barbuda</td>\n",
       "      <td>1800</td>\n",
       "      <td>33.54</td>\n",
       "      <td>5.00</td>\n",
       "      <td>37000.0</td>\n",
       "    </tr>\n",
       "  </tbody>\n",
       "</table>\n",
       "</div>"
      ],
      "text/plain": [
       "               Country  year   life  fertility  population\n",
       "1          Afghanistan  1800  28.21       7.00   3280000.0\n",
       "3              Albania  1800  35.40       4.60    410445.0\n",
       "4              Algeria  1800  28.82       6.99   2503218.0\n",
       "7               Angola  1800  26.98       6.93   1567028.0\n",
       "9  Antigua and Barbuda  1800  33.54       5.00     37000.0"
      ]
     },
     "execution_count": 8,
     "metadata": {},
     "output_type": "execute_result"
    }
   ],
   "source": [
    "data = data.dropna(how='any')\n",
    "data.head()"
   ]
  },
  {
   "cell_type": "code",
   "execution_count": 9,
   "metadata": {
    "collapsed": true
   },
   "outputs": [],
   "source": [
    "# Perform necessary imports\n",
    "from bokeh.io import output_file, show\n",
    "from bokeh.plotting import figure\n",
    "from bokeh.models import HoverTool, ColumnDataSource\n",
    "from bokeh.io import curdoc\n",
    "from bokeh.models import CategoricalColorMapper\n",
    "from bokeh.palettes import Spectral6\n",
    "from bokeh.layouts import widgetbox, row\n",
    "from bokeh.models import Slider\n",
    "\n",
    "from bokeh.models import Select\n",
    "from bokeh.models import CheckboxGroup, RadioGroup, Toggle\n",
    "\n",
    "\n",
    "from bokeh.application.handlers import FunctionHandler\n",
    "from bokeh.application import Application"
   ]
  },
  {
   "cell_type": "code",
   "execution_count": 10,
   "metadata": {
    "collapsed": true
   },
   "outputs": [],
   "source": [
    "\n",
    "\n",
    "\n",
    "# Make the ColumnDataSource: source\n",
    "source = ColumnDataSource(data={\n",
    "    'x'       : data.loc[data['year']=='1970'].fertility,\n",
    "    'y'       : data.loc[data['year']=='1970'].life,\n",
    "    'country'      : data.loc[data['year']=='1970'].Country,\n",
    "    'pop'      : (data.loc[data['year']=='1970'].population / 20000000) + 2\n",
    "\n",
    "})"
   ]
  },
  {
   "cell_type": "code",
   "execution_count": null,
   "metadata": {
    "collapsed": true
   },
   "outputs": [],
   "source": []
  },
  {
   "cell_type": "code",
   "execution_count": null,
   "metadata": {
    "collapsed": true
   },
   "outputs": [],
   "source": []
  },
  {
   "cell_type": "code",
   "execution_count": 11,
   "metadata": {},
   "outputs": [
    {
     "ename": "IndentationError",
     "evalue": "unexpected indent (<ipython-input-11-8c55adce9e1e>, line 6)",
     "output_type": "error",
     "traceback": [
      "\u001b[1;36m  File \u001b[1;32m\"<ipython-input-11-8c55adce9e1e>\"\u001b[1;36m, line \u001b[1;32m6\u001b[0m\n\u001b[1;33m    xmin, xmax = min(data.fertility), max(data.fertility)\u001b[0m\n\u001b[1;37m    ^\u001b[0m\n\u001b[1;31mIndentationError\u001b[0m\u001b[1;31m:\u001b[0m unexpected indent\n"
     ]
    }
   ],
   "source": [
    "\n",
    "# Create the Document Application\n",
    "#def modify_doc(doc):\n",
    "\n",
    "    # Save the minimum and maximum values of the fertility column: xmin, xmax\n",
    "    xmin, xmax = min(data.fertility), max(data.fertility)\n",
    "\n",
    "    # Save the minimum and maximum values of the life expectancy column: ymin, ymax\n",
    "    ymin, ymax = min(data.life), max(data.life)\n",
    "\n",
    "    # Create the figure: plot\n",
    "    plot = figure(title='Gapminder Data for 1970', plot_height=400, plot_width=700,\n",
    "                  x_range=(xmin, xmax), y_range=(ymin, ymax))\n",
    "\n",
    "    # Make a list of the unique values from the region column: regions_list\n",
    "    #regions_list = data.region.unique().tolist()\n",
    "\n",
    "    # Make a color mapper: color_mapper\n",
    "    #color_mapper = CategoricalColorMapper(factors=regions_list, palette=Spectral6)\n",
    "\n",
    "\n",
    "    # Add circle glyphs to the plot\n",
    "    plot.circle(x='x', y='y', fill_alpha=0.8, source=source,\n",
    "                color=dict(field='region'), legend='region')\n",
    "\n",
    "    # Set the x-axis label\n",
    "    plot.xaxis.axis_label ='Fertility (children per woman)'\n",
    "\n",
    "    # Set the y-axis label\n",
    "    plot.yaxis.axis_label = 'Life Expectancy (years)'\n",
    "\n",
    "    # Set the legend.location attribute of the plot to 'top_right'\n",
    "    plot.legend.location = 'top_right'\n",
    "\n",
    "\n",
    "    # Create a HoverTool: hover\n",
    "    hover = HoverTool(tooltips=[('Country', '@country')])\n",
    "\n",
    "    # Add the HoverTool to the plot\n",
    "    plot.add_tools(hover)\n",
    "\n",
    "\n",
    "\n",
    "\n",
    "    # Define the callback function: update_plot\n",
    "    def update_plot(attr, old, new):\n",
    "        # Read the current value off the slider and 2 dropdowns: yr, x, y\n",
    "        yr = slider.value\n",
    "        x = x_select.value\n",
    "        y = y_select.value\n",
    "        # Label axes of plot\n",
    "        plot.xaxis.axis_label = x\n",
    "        plot.yaxis.axis_label = y\n",
    "        new_data = {\n",
    "            'x'       : data.loc[yr].fertility,\n",
    "            'y'       : data.loc[yr].life,\n",
    "            'country' : data.loc[yr].Country,\n",
    "            'pop'     : (data.loc[yr].population / 20000000) + 2\n",
    "        }\n",
    "        # Assign new_data to: source.data\n",
    "        source_data = new_data\n",
    "\n",
    "        # Set the range of all axes\n",
    "        plot.x_range.start = min(data[x])\n",
    "        plot.x_range.end = max(data[x])\n",
    "        plot.y_range.start = min(data[y])\n",
    "        plot.y_range.end = max(data[y])\n",
    "\n",
    "        # Add title to figure: plot.title.text\n",
    "        plot.title.text = 'Gapminder data for %d' % yr\n",
    "\n",
    "\n",
    "    # Make a slider object: slider\n",
    "    slider = Slider(start=1970, end=2010, step=1, value=1970, title='Year')\n",
    "\n",
    "    # Attach the callback to the 'value' property of slider\n",
    "    slider.on_change('value', update_plot)\n",
    "\n",
    "\n",
    "\n",
    "    # Create a dropdown Select widget for the x data: x_select\n",
    "    x_select = Select(\n",
    "        options=['fertility', 'life', 'child_mortality', 'gdp'],\n",
    "        value='fertility',\n",
    "        title='x-axis data'\n",
    "    )\n",
    "\n",
    "    # Attach the update_plot callback to the 'value' property of x_select\n",
    "    x_select.on_change('value', update_plot)\n",
    "\n",
    "    # Create a dropdown Select widget for the y data: y_select\n",
    "    y_select = Select(\n",
    "        options=['fertility', 'life', 'child_mortality', 'gdp'],\n",
    "        value='life',\n",
    "        title='y-axis data'\n",
    "    )\n",
    "\n",
    "    # Attach the update_plot callback to the 'value' property of y_select\n",
    "    y_select.on_change('value', update_plot)\n",
    "\n",
    "\n",
    "\n",
    "    # Make a row layout of widgetbox(slider) and plot and add it to the current document\n",
    "    layout = row(widgetbox(slider, x_select, y_select), plot)\n",
    "\n",
    "    # Add the plot to the current document and add a title\n",
    "    curdoc().add_root(layout)\n",
    "    curdoc().title = 'Gapminder'\n",
    "    \n",
    "    #Show layout\n",
    "    show(layout)\n",
    "    \n",
    "# Set up the Application \n",
    "#handler = FunctionHandler(modify_doc)\n",
    "#app = Application(handler)"
   ]
  },
  {
   "cell_type": "code",
   "execution_count": 14,
   "metadata": {
    "collapsed": true
   },
   "outputs": [],
   "source": [
    "# Create the Document\n",
    "# Not strictly necessary, but helps w/ debugging\n",
    "doc = app.create_document()"
   ]
  },
  {
   "cell_type": "code",
   "execution_count": 18,
   "metadata": {},
   "outputs": [
    {
     "ename": "AttributeError",
     "evalue": "'State' object has no attribute '_notebook_type'",
     "output_type": "error",
     "traceback": [
      "\u001b[1;31m---------------------------------------------------------------------------\u001b[0m",
      "\u001b[1;31mAttributeError\u001b[0m                            Traceback (most recent call last)",
      "\u001b[1;32m<ipython-input-18-bc375c32901b>\u001b[0m in \u001b[0;36m<module>\u001b[1;34m()\u001b[0m\n\u001b[0;32m      1\u001b[0m \u001b[1;31m# Show the application\u001b[0m\u001b[1;33m\u001b[0m\u001b[1;33m\u001b[0m\u001b[0m\n\u001b[0;32m      2\u001b[0m \u001b[1;31m# Make sure the URL matches your Jupyter instance\u001b[0m\u001b[1;33m\u001b[0m\u001b[1;33m\u001b[0m\u001b[0m\n\u001b[1;32m----> 3\u001b[1;33m \u001b[0mshow\u001b[0m\u001b[1;33m(\u001b[0m\u001b[0mapp\u001b[0m\u001b[1;33m,\u001b[0m \u001b[0mnotebook_url\u001b[0m\u001b[1;33m=\u001b[0m\u001b[1;34m\"localhost:8888\"\u001b[0m\u001b[1;33m)\u001b[0m\u001b[1;33m\u001b[0m\u001b[0m\n\u001b[0m",
      "\u001b[1;32m~\\AppData\\Local\\Continuum\\anaconda3\\lib\\site-packages\\bokeh\\io.py\u001b[0m in \u001b[0;36mshow\u001b[1;34m(obj, browser, new, notebook_handle, notebook_url)\u001b[0m\n\u001b[0;32m    385\u001b[0m     \u001b[1;31m# in Tornado) just in order to show a non-server object\u001b[0m\u001b[1;33m\u001b[0m\u001b[1;33m\u001b[0m\u001b[0m\n\u001b[0;32m    386\u001b[0m     \u001b[1;32mif\u001b[0m \u001b[0mgetattr\u001b[0m\u001b[1;33m(\u001b[0m\u001b[0mobj\u001b[0m\u001b[1;33m,\u001b[0m \u001b[1;34m'_is_a_bokeh_application_class'\u001b[0m\u001b[1;33m,\u001b[0m \u001b[1;32mFalse\u001b[0m\u001b[1;33m)\u001b[0m\u001b[1;33m:\u001b[0m\u001b[1;33m\u001b[0m\u001b[0m\n\u001b[1;32m--> 387\u001b[1;33m         \u001b[1;32mreturn\u001b[0m \u001b[0m_run_notebook_hook\u001b[0m\u001b[1;33m(\u001b[0m\u001b[0m_state\u001b[0m\u001b[1;33m.\u001b[0m\u001b[0mnotebook_type\u001b[0m\u001b[1;33m,\u001b[0m \u001b[1;34m'app'\u001b[0m\u001b[1;33m,\u001b[0m \u001b[0mobj\u001b[0m\u001b[1;33m,\u001b[0m \u001b[0m_state\u001b[0m\u001b[1;33m,\u001b[0m \u001b[0mnotebook_url\u001b[0m\u001b[1;33m)\u001b[0m\u001b[1;33m\u001b[0m\u001b[0m\n\u001b[0m\u001b[0;32m    388\u001b[0m \u001b[1;33m\u001b[0m\u001b[0m\n\u001b[0;32m    389\u001b[0m     \u001b[1;32mif\u001b[0m \u001b[0mobj\u001b[0m \u001b[1;32mnot\u001b[0m \u001b[1;32min\u001b[0m \u001b[0m_state\u001b[0m\u001b[1;33m.\u001b[0m\u001b[0mdocument\u001b[0m\u001b[1;33m.\u001b[0m\u001b[0mroots\u001b[0m\u001b[1;33m:\u001b[0m\u001b[1;33m\u001b[0m\u001b[0m\n",
      "\u001b[1;32m~\\AppData\\Local\\Continuum\\anaconda3\\lib\\site-packages\\bokeh\\core\\state.py\u001b[0m in \u001b[0;36mnotebook_type\u001b[1;34m(self)\u001b[0m\n\u001b[0;32m     89\u001b[0m \u001b[1;33m\u001b[0m\u001b[0m\n\u001b[0;32m     90\u001b[0m         '''\n\u001b[1;32m---> 91\u001b[1;33m         \u001b[1;32mreturn\u001b[0m \u001b[0mself\u001b[0m\u001b[1;33m.\u001b[0m\u001b[0m_notebook_type\u001b[0m\u001b[1;33m\u001b[0m\u001b[0m\n\u001b[0m\u001b[0;32m     92\u001b[0m \u001b[1;33m\u001b[0m\u001b[0m\n\u001b[0;32m     93\u001b[0m     \u001b[1;33m@\u001b[0m\u001b[0mnotebook_type\u001b[0m\u001b[1;33m.\u001b[0m\u001b[0msetter\u001b[0m\u001b[1;33m\u001b[0m\u001b[0m\n",
      "\u001b[1;31mAttributeError\u001b[0m: 'State' object has no attribute '_notebook_type'"
     ]
    }
   ],
   "source": [
    "# Show the application\n",
    "# Make sure the URL matches your Jupyter instance\n",
    "show(app, notebook_url=\"localhost:8888\")"
   ]
  },
  {
   "cell_type": "code",
   "execution_count": 13,
   "metadata": {},
   "outputs": [
    {
     "name": "stderr",
     "output_type": "stream",
     "text": [
      "E-1001 (BAD_COLUMN_NAME): Glyph refers to nonexistent column name: region [renderer: GlyphRenderer(id='84216f70-ff8c-4011-87e7-385fe88a503f', ...)]\n"
     ]
    }
   ],
   "source": [
    "# Save the minimum and maximum values of the fertility column: xmin, xmax\n",
    "xmin, xmax = min(data.fertility), max(data.fertility)\n",
    "\n",
    "# Save the minimum and maximum values of the life expectancy column: ymin, ymax\n",
    "ymin, ymax = min(data.life), max(data.life)\n",
    "\n",
    "# Create the figure: plot\n",
    "plot = figure(title='Gapminder Data for 1970', plot_height=400, plot_width=700,\n",
    "              x_range=(xmin, xmax), y_range=(ymin, ymax))\n",
    "\n",
    "# Make a list of the unique values from the region column: regions_list\n",
    "#regions_list = data.region.unique().tolist()\n",
    "\n",
    "# Make a color mapper: color_mapper\n",
    "#color_mapper = CategoricalColorMapper(factors=regions_list, palette=Spectral6)\n",
    "\n",
    "\n",
    "# Add circle glyphs to the plot\n",
    "plot.circle(x='x', y='y', fill_alpha=0.8, source=source)\n",
    "\n",
    "# Set the x-axis label\n",
    "plot.xaxis.axis_label ='Fertility (children per woman)'\n",
    "\n",
    "# Set the y-axis label\n",
    "plot.yaxis.axis_label = 'Life Expectancy (years)'\n",
    "\n",
    "# Set the legend.location attribute of the plot to 'top_right'\n",
    "plot.legend.location = 'top_right'\n",
    "\n",
    "\n",
    "# Create a HoverTool: hover\n",
    "hover = HoverTool(tooltips=[('Country', '@country')])\n",
    "\n",
    "# Add the HoverTool to the plot\n",
    "plot.add_tools(hover)\n",
    "\n",
    "\n",
    "\n",
    "\n",
    "# Define the callback function: update_plot\n",
    "def update_plot(attr, old, new):\n",
    "    # Read the current value off the slider and 2 dropdowns: yr, x, y\n",
    "    yr = slider.value\n",
    "    x = x_select.value\n",
    "    y = y_select.value\n",
    "    # Label axes of plot\n",
    "    plot.xaxis.axis_label = x\n",
    "    plot.yaxis.axis_label = y\n",
    "    new_data = {\n",
    "        'x'       : data.loc[yr].fertility,\n",
    "        'y'       : data.loc[yr].life,\n",
    "        'country' : data.loc[yr].Country,\n",
    "        'pop'     : (data.loc[yr].population / 20000000) + 2\n",
    "    }\n",
    "    # Assign new_data to: source.data\n",
    "    source_data = new_data\n",
    "\n",
    "    # Set the range of all axes\n",
    "    plot.x_range.start = min(data[x])\n",
    "    plot.x_range.end = max(data[x])\n",
    "    plot.y_range.start = min(data[y])\n",
    "    plot.y_range.end = max(data[y])\n",
    "\n",
    "    # Add title to figure: plot.title.text\n",
    "    plot.title.text = 'Gapminder data for %d' % yr\n",
    "\n",
    "\n",
    "# Make a slider object: slider\n",
    "slider = Slider(start=1970, end=2010, step=1, value=1970, title='Year')\n",
    "\n",
    "# Attach the callback to the 'value' property of slider\n",
    "slider.on_change('value', update_plot)\n",
    "\n",
    "\n",
    "\n",
    "# Create a dropdown Select widget for the x data: x_select\n",
    "x_select = Select(\n",
    "    options=['fertility', 'life', 'child_mortality', 'gdp'],\n",
    "    value='fertility',\n",
    "    title='x-axis data'\n",
    ")\n",
    "\n",
    "# Attach the update_plot callback to the 'value' property of x_select\n",
    "x_select.on_change('value', update_plot)\n",
    "\n",
    "# Create a dropdown Select widget for the y data: y_select\n",
    "y_select = Select(\n",
    "    options=['fertility', 'life', 'child_mortality', 'gdp'],\n",
    "    value='life',\n",
    "    title='y-axis data'\n",
    ")\n",
    "\n",
    "# Attach the update_plot callback to the 'value' property of y_select\n",
    "y_select.on_change('value', update_plot)\n",
    "\n",
    "\n",
    "\n",
    "# Make a row layout of widgetbox(slider) and plot and add it to the current document\n",
    "layout = row(widgetbox(slider, x_select, y_select), plot)\n",
    "\n",
    "# Add the plot to the current document and add a title\n",
    "curdoc().add_root(layout)\n",
    "curdoc().title = 'Gapminder'\n",
    "\n",
    "#Show layout\n",
    "show(layout)"
   ]
  },
  {
   "cell_type": "code",
   "execution_count": null,
   "metadata": {
    "collapsed": true
   },
   "outputs": [],
   "source": []
  },
  {
   "cell_type": "code",
   "execution_count": null,
   "metadata": {
    "collapsed": true
   },
   "outputs": [],
   "source": []
  },
  {
   "cell_type": "code",
   "execution_count": null,
   "metadata": {
    "collapsed": true
   },
   "outputs": [],
   "source": []
  },
  {
   "cell_type": "code",
   "execution_count": null,
   "metadata": {
    "collapsed": true
   },
   "outputs": [],
   "source": []
  },
  {
   "cell_type": "code",
   "execution_count": null,
   "metadata": {
    "collapsed": true
   },
   "outputs": [],
   "source": []
  },
  {
   "cell_type": "code",
   "execution_count": null,
   "metadata": {
    "collapsed": true
   },
   "outputs": [],
   "source": []
  },
  {
   "cell_type": "code",
   "execution_count": null,
   "metadata": {
    "collapsed": true
   },
   "outputs": [],
   "source": []
  },
  {
   "cell_type": "code",
   "execution_count": null,
   "metadata": {
    "collapsed": true
   },
   "outputs": [],
   "source": []
  }
 ],
 "metadata": {
  "kernelspec": {
   "display_name": "Python 3",
   "language": "python",
   "name": "python3"
  },
  "language_info": {
   "codemirror_mode": {
    "name": "ipython",
    "version": 3
   },
   "file_extension": ".py",
   "mimetype": "text/x-python",
   "name": "python",
   "nbconvert_exporter": "python",
   "pygments_lexer": "ipython3",
   "version": "3.6.2"
  }
 },
 "nbformat": 4,
 "nbformat_minor": 2
}
