{
 "cells": [
  {
   "cell_type": "markdown",
   "metadata": {},
   "source": [
    "**Libraries**"
   ]
  },
  {
   "cell_type": "code",
   "execution_count": null,
   "metadata": {
    "collapsed": true
   },
   "outputs": [],
   "source": [
    "# Import figure from bokeh.plotting\n",
    "from bokeh.plotting import figure\n",
    "\n",
    "# Import output_file and show from bokeh.io\n",
    "from bokeh.io import output_file, show\n",
    "\n",
    "# Import the ColumnDataSource class from bokeh.plotting\n",
    "from bokeh.plotting import ColumnDataSource\n",
    "\n",
    "# import the HoverTool\n",
    "from bokeh.models import HoverTool\n",
    "\n",
    "# Import CategoricalColorMapper from bokeh.models\n",
    "from bokeh.models import CategoricalColorMapper\n",
    "\n",
    "# Import row from bokeh.layouts\n",
    "from bokeh.layouts import row\n",
    "\n",
    "#Import column from the bokeh.layouts module\n",
    "from bokeh.layouts import column\n",
    "\n",
    "# Import gridplot from bokeh.layouts\n",
    "from bokeh.layouts import gridplot\n",
    "\n",
    "# Import Panel from bokeh.models.widgets\n",
    "from bokeh.models.widgets import Panel\n",
    "\n",
    "# Import Tabs from bokeh.models.widgets\n",
    "from bokeh.models.widgets import Tabs"
   ]
  },
  {
   "cell_type": "markdown",
   "metadata": {},
   "source": [
    "**Create a ColumnDataSource**"
   ]
  },
  {
   "cell_type": "code",
   "execution_count": null,
   "metadata": {
    "collapsed": true
   },
   "outputs": [],
   "source": [
    "# This is the dataframe type Bokeh uses. When using pandas dataframes or numpy arrays Bokeh will convert those automatically.\n",
    "# But it is more useful to convert them directly as more Bokeh applications become available, such as interactive graphs with sliders.\n",
    "\n",
    "source = ColumnDataSource(df)"
   ]
  },
  {
   "cell_type": "markdown",
   "metadata": {},
   "source": [
    "**Create a Figure**"
   ]
  },
  {
   "cell_type": "code",
   "execution_count": null,
   "metadata": {
    "collapsed": true
   },
   "outputs": [],
   "source": [
    "p = figure(x_axis_label='fertility (children per woman)', y_axis_label='female_literacy (% population)')\n",
    "\n",
    "# Figure with datetime\n",
    "p = figure(x_axis_type='datetime', x_axis_label='Date', y_axis_label='US Dollars')"
   ]
  },
  {
   "cell_type": "markdown",
   "metadata": {},
   "source": [
    "**Add a glyph, i.e. what kind of chart**"
   ]
  },
  {
   "cell_type": "code",
   "execution_count": null,
   "metadata": {
    "collapsed": true
   },
   "outputs": [],
   "source": [
    "#Glyphs from lists\n",
    "\n",
    "# Circle glyph\n",
    "p.circle(fertility, female_literacy)\n",
    "\n",
    "# X glyph\n",
    "p.x(fertility_africa, female_literacy_africa)\n",
    "\n",
    "# Add glyphs in different colours for different continets\n",
    "p.circle(fertility_latinamerica, female_literacy_latinamerica, color='blue', size=10, alpha=0.8)\n",
    "p.circle(fertility_africa, female_literacy_africa, color='red', size=10, alpha=0.8)\n",
    "\n",
    "# Line glyph\n",
    "p.line(date, price)\n",
    "\n",
    "# Patch glyph for geometric shapes like state borders\n",
    "x = [az_lons, co_lons, nm_lons, ut_lons] # lattitude coordinates\n",
    "y = [az_lats, co_lats, nm_lats, ut_lats] # longitude coordinates\n",
    "p.patches(x, y, line_color='white')\n",
    "\n",
    "################################################################################################\n",
    "\n",
    "# Circle glyph with ColumnDataSource\n",
    "p.circle('Year', 'Time', color='color', source=source, size=8)\n",
    "\n",
    "################################################################################################\n",
    "\n",
    "# Add legend to glyph\n",
    "p.circle(legend='xxxx')\n",
    "p.legend.location = 'bottom_left'\n",
    "p.legend.background_fill_color = 'lightgray'"
   ]
  },
  {
   "cell_type": "markdown",
   "metadata": {},
   "source": [
    "**Customising glyphs**"
   ]
  },
  {
   "cell_type": "code",
   "execution_count": null,
   "metadata": {
    "collapsed": true
   },
   "outputs": [],
   "source": [
    "# Box-select; let's you select points of interest in the graph to which you can do something\n",
    "\n",
    "# Create a figure with the \"box_select\" tool: p\n",
    "p = figure(x_axis_label='Year', y_axis_label='Time', tools='box_select')\n",
    "\n",
    "# Add circle glyphs to the figure p with the selected and non-selected properties\n",
    "p.circle('Year', 'Time', source=source, selection_color='red', \n",
    "nonselection_alpha=0.1)\n",
    "\n",
    "################################################################################################\n",
    "\n",
    "# Hover Tool; glyph that will appear red, for example, when the mouse is hovered near the data points\n",
    "p.circle(x, y, size=10, fill_color='grey', alpha=0.1, line_color=None,\n",
    "         hover_fill_color='firebrick', hover_alpha=0.5, hover_line_color='white')\n",
    "\n",
    "hover = HoverTool(tooltips=None, mode='vline')\n",
    "p.add_tools(hover)\n",
    "\n",
    "################################################################################################\n",
    "\n",
    "# Make a CategoricalColorMapper object: color_mapper\n",
    "color_mapper = CategoricalColorMapper(factors=['Europe', 'Asia', 'US'], palette=['red', 'green', 'blue'])\n",
    "\n",
    "# Add a circle glyph to the figure p\n",
    "p.circle('weight', 'mpg', source=source, color=dict(field='origin', transform=color_mapper), legend='origin')"
   ]
  },
  {
   "cell_type": "markdown",
   "metadata": {},
   "source": [
    "**Layout**"
   ]
  },
  {
   "cell_type": "code",
   "execution_count": null,
   "metadata": {
    "collapsed": true
   },
   "outputs": [],
   "source": [
    "# You can add graphs that are next to each other or below each other as well as sliders etc.\n",
    "# For that you need to create a Layout\n",
    "# Here I use row but column can also be used as well as both together (nested)\n",
    "\n",
    "# Create the first figure: p1 + glyph\n",
    "p1 = figure(x_axis_label='fertility (children per woman)', y_axis_label='female_literacy (% population)')\n",
    "p1.circle('fertility', 'female_literacy', source=source)\n",
    "\n",
    "# Create the second figure: p2 + glyph\n",
    "p2 = figure(x_axis_label='population', y_axis_label='female_literacy (% population)')\n",
    "p2.circle('population', 'female_literacy', source=source)\n",
    "\n",
    "# Put p1 and p2 into a horizontal row: layout\n",
    "layout = row(p1, p2)\n",
    "\n",
    "# Specify the name of the output_file and show the result\n",
    "output_file('fert_row.html')\n",
    "show(layout)                   # insetad of p we now insert layout\n",
    "\n",
    "################################################################################################\n",
    "\n",
    "# Nested - row and column\n",
    "\n",
    "# Make a column layout that will be used as the second row: row2\n",
    "row2 = column([mpg_hp, mpg_weight], sizing_mode='scale_width')\n",
    "# Make a row layout that includes the above column layout: layout\n",
    "layout = row([avg_mpg, row2], sizing_mode='scale_width')\n",
    "\n",
    "################################################################################################\n",
    "\n",
    "# Gridplot - similar to row and column nested\n",
    "# p1 etc. are Bokeh plots that have already been created\n",
    "\n",
    "# Create a list containing plots p1 and p2: row1\n",
    "row1 = [p1, p2]\n",
    "# Create a list containing plots p3 and p4: row2\n",
    "row2 = [p3, p4]\n",
    "# Create a gridplot using row1 and row2: layout\n",
    "layout = gridplot([row1, row2])\n",
    "\n",
    "################################################################################################\n",
    "\n",
    "# Tabbed layout - creates tabs with plots through you can switch\n",
    "\n",
    "# Create 4 tabs from plot p1 to p4\n",
    "tab1 = Panel(child=p1, title='Latin America')\n",
    "tab2 = Panel(child=p2, title='Africa')\n",
    "tab3 = Panel(child=p3, title='Asia')\n",
    "tab4 = Panel(child=p4, title='Europe')\n",
    "# Create a Tabs layout: layout\n",
    "layout = Tabs(tabs=[tab1, tab2, tab3, tab4])"
   ]
  },
  {
   "cell_type": "markdown",
   "metadata": {},
   "source": [
    "**Adding hover tooltip**"
   ]
  },
  {
   "cell_type": "code",
   "execution_count": null,
   "metadata": {
    "collapsed": true
   },
   "outputs": [],
   "source": [
    "# Allows you to hover over data points to get more information\n",
    "\n",
    "# Create a HoverTool object: hover\n",
    "hover = HoverTool(tooltips=[('Country', '@Country')])\n",
    "\n",
    "# Add the HoverTool object to figure p\n",
    "p.add_tools(hover)"
   ]
  },
  {
   "cell_type": "markdown",
   "metadata": {},
   "source": [
    "**Linking Plots**"
   ]
  },
  {
   "cell_type": "code",
   "execution_count": null,
   "metadata": {
    "collapsed": true
   },
   "outputs": [],
   "source": [
    "# Once the layout has been created, the subplots can be linked, i.e. if you zoom in on one graph you will automatically zoom in\n",
    "# on the other graphs. For this it is important to real from a shared source, the ColumnDataSource\n",
    "\n",
    "# Link the x_range of p2 to p1: p2.x_range\n",
    "p2.x_range = p1.x_range\n",
    "# Link the y_range of p2 to p1: p2.y_range\n",
    "p2.y_range = p1.y_range\n",
    "# Link the x_range of p3 to p1: p3.x_range\n",
    "p3.x_range = p1.x_range\n",
    "# Link the y_range of p4 to p1: p4.y_range\n",
    "p4.y_range = p1.y_range\n",
    "\n",
    "\n",
    "################################################################################################\n",
    "\n",
    "# Linked brushing with selecting box_select and lasso_select as well as row\n",
    "\n",
    "source = ColumnDataSource(data)\n",
    "\n",
    "p1 = figure(x_axis_label='fertility (children per woman)', y_axis_label='female literacy (% population)',\n",
    "            tools='box_select,lasso_select')\n",
    "p1.circle('fertility', 'female literacy', source=source)\n",
    "\n",
    "p2 = figure(x_axis_label='fertility (children per woman)', y_axis_label='population (millions)',\n",
    "            tools='box_select,lasso_select')\n",
    "p2.circle('fertility', 'population', source=source)\n",
    "\n",
    "layout = row([p1,p2])"
   ]
  },
  {
   "cell_type": "markdown",
   "metadata": {},
   "source": [
    "**Call the output_file() function and specify the name of the file**"
   ]
  },
  {
   "cell_type": "code",
   "execution_count": null,
   "metadata": {
    "collapsed": true
   },
   "outputs": [],
   "source": [
    "output_file('fert_lit.html')"
   ]
  },
  {
   "cell_type": "markdown",
   "metadata": {},
   "source": [
    "**Display the plot**"
   ]
  },
  {
   "cell_type": "code",
   "execution_count": null,
   "metadata": {
    "collapsed": true
   },
   "outputs": [],
   "source": [
    "show(p)"
   ]
  },
  {
   "cell_type": "code",
   "execution_count": null,
   "metadata": {
    "collapsed": true
   },
   "outputs": [],
   "source": []
  },
  {
   "cell_type": "markdown",
   "metadata": {},
   "source": [
    "# **Bokeh Server**"
   ]
  },
  {
   "cell_type": "markdown",
   "metadata": {},
   "source": [
    "**Import modules**"
   ]
  },
  {
   "cell_type": "code",
   "execution_count": null,
   "metadata": {
    "collapsed": true
   },
   "outputs": [],
   "source": [
    "from bokeh.io import curdoc\n",
    "from bokeh.plotting import figure\n",
    "\n",
    "from bokeh.layouts import widgetbox\n",
    "from bokeh.models import Slider\n",
    "from bokeh.models import Select\n",
    "from bokeh.models import CheckboxGroup, RadioGroup, Toggle"
   ]
  },
  {
   "cell_type": "markdown",
   "metadata": {},
   "source": [
    "**Skeleton code**"
   ]
  },
  {
   "cell_type": "code",
   "execution_count": null,
   "metadata": {
    "collapsed": true
   },
   "outputs": [],
   "source": [
    "# Run command in Jupyter - I am not sure if this goes at the end of the code\n",
    "bokeh serve --show myapp.py\n",
    "\n",
    "# Create a new plot: plot\n",
    "plot = figure()\n",
    "\n",
    "# Add a line to the plot\n",
    "plot.line([1,2,3,4,5], [2,5,4,6,7])\n",
    "\n",
    "# Add the plot to the current document\n",
    "curdoc().add_root(plot)"
   ]
  },
  {
   "cell_type": "markdown",
   "metadata": {},
   "source": [
    "**Slider**"
   ]
  },
  {
   "cell_type": "code",
   "execution_count": null,
   "metadata": {
    "collapsed": true
   },
   "outputs": [],
   "source": [
    "# Create first slider: slider1\n",
    "slider1 = Slider(title='slider1', start=0, end=10, step=0.1, value=2)\n",
    "\n",
    "# Create second slider: slider2\n",
    "slider2 = Slider(title='slider2', start=10, end=100, step=1, value=20)\n",
    "\n",
    "# Add slider1 and slider2 to a widgetbox\n",
    "layout = widgetbox(slider1, slider2)\n",
    "\n",
    "# Add the layout to the current document\n",
    "curdoc().add_root(layout)"
   ]
  },
  {
   "cell_type": "markdown",
   "metadata": {},
   "source": [
    "**Combine models and sliders into layouts**"
   ]
  },
  {
   "cell_type": "code",
   "execution_count": null,
   "metadata": {
    "collapsed": true
   },
   "outputs": [],
   "source": [
    "# Create ColumnDataSource: source\n",
    "source = ColumnDataSource(data={'x': x, 'y': y})\n",
    "\n",
    "# Add a line to the plot\n",
    "plot.line('x', 'y', source=source)\n",
    "\n",
    "# Create a column layout: layout\n",
    "layout = column(widgetbox(slider), plot)\n",
    "\n",
    "# Add the layout to the current document\n",
    "curdoc().add_root(layout)"
   ]
  },
  {
   "cell_type": "markdown",
   "metadata": {},
   "source": [
    "**Callback**"
   ]
  },
  {
   "cell_type": "code",
   "execution_count": null,
   "metadata": {
    "collapsed": true
   },
   "outputs": [],
   "source": [
    "# This is neccessary otherwise the slider etc. won't update - essentially this tells us how to update the plot throught he slider\n",
    "\n",
    "# Define a callback function: callback\n",
    "def callback(attr, old, new):\n",
    "\n",
    "    # Read the current value of the slider: scale\n",
    "    scale = slider.value\n",
    "\n",
    "    # Compute the updated y using np.sin(scale/x): new_y\n",
    "    new_y = np.sin(scale/x)\n",
    "\n",
    "    # Update source with the new data values\n",
    "    source.data = {'x': x, 'y': new_y}\n",
    "\n",
    "# Attach the callback to the 'value' property of slider\n",
    "slider.on_change('value', callback)\n",
    "\n",
    "# Create layout and add to current document\n",
    "layout = column(widgetbox(slider), plot)\n",
    "curdoc().add_root(layout)"
   ]
  },
  {
   "cell_type": "markdown",
   "metadata": {},
   "source": [
    "**Dropdown with Callback and integration into Layouts**"
   ]
  },
  {
   "cell_type": "code",
   "execution_count": null,
   "metadata": {
    "collapsed": true
   },
   "outputs": [],
   "source": [
    "# Define a callback function: update_plot\n",
    "def update_plot(attr, old, new):\n",
    "    # If the new Selection is 'female_literacy', update 'y' to female_literacy\n",
    "    if new == 'female_literacy': \n",
    "        source.data = {\n",
    "            'x' : fertility,\n",
    "            'y' : female_literacy\n",
    "        }\n",
    "    # Else, update 'y' to population\n",
    "    else:\n",
    "        source.data = {\n",
    "            'x' : fertility,\n",
    "            'y' : population\n",
    "        }\n",
    "\n",
    "# Create a dropdown Select widget: select    \n",
    "select = Select(title=\"distribution\", options=['female_literacy', 'population'], value='female_literacy')\n",
    "\n",
    "# Attach the update_plot callback to the 'value' property of select\n",
    "select.on_change('value', update_plot)\n",
    "\n",
    "# Create layout and add to current document\n",
    "layout = row(select, plot)\n",
    "curdoc().add_root(layout)"
   ]
  },
  {
   "cell_type": "markdown",
   "metadata": {},
   "source": [
    "**Synchronising two dropdowns**"
   ]
  },
  {
   "cell_type": "code",
   "execution_count": null,
   "metadata": {
    "collapsed": true
   },
   "outputs": [],
   "source": [
    "# Create two dropdown Select widgets: select1, select2\n",
    "select1 = Select(title='First', options=['A', 'B'], value='A')\n",
    "select2 = Select(title='Second', options=['1', '2', '3'], value='1')\n",
    "\n",
    "# Define a callback function: callback\n",
    "def callback(attr, old, new):\n",
    "    # If select1 is 'A' \n",
    "    if select1.value == 'A':\n",
    "        # Set select2 options to ['1', '2', '3']\n",
    "        select2.options = ['1', '2', '3']\n",
    "\n",
    "        # Set select2 value to '1'\n",
    "        select2.value = '1'\n",
    "    else:\n",
    "        # Set select2 options to ['100', '200', '300']\n",
    "        select2.options = ['100', '200', '300']\n",
    "\n",
    "        # Set select2 value to '100'\n",
    "        select2.value = '100'\n",
    "\n",
    "# Attach the callback to the 'value' property of select1\n",
    "select1.on_change('value', callback)\n",
    "\n",
    "# Create layout and add to current document\n",
    "layout = widgetbox(select1, select2)\n",
    "curdoc().add_root(layout)\n"
   ]
  },
  {
   "cell_type": "markdown",
   "metadata": {},
   "source": [
    "**Button Widgets**"
   ]
  },
  {
   "cell_type": "code",
   "execution_count": null,
   "metadata": {
    "collapsed": true
   },
   "outputs": [],
   "source": [
    "# Create a Button with label 'Update Data'\n",
    "button = Button(label='Update Data')\n",
    "\n",
    "# Define an update callback with no arguments: update\n",
    "def update():\n",
    "\n",
    "    # Compute new y values: y\n",
    "    y = np.sin(x) + np.random.random(N)\n",
    "\n",
    "    # Update the ColumnDataSource data dictionary\n",
    "    source.data['y'] = y\n",
    "\n",
    "# Add the update callback to the button\n",
    "button.on_click(update)\n",
    "\n",
    "# Create layout and add to current document\n",
    "layout = column(widgetbox(button), plot)\n",
    "curdoc().add_root(layout)"
   ]
  },
  {
   "cell_type": "markdown",
   "metadata": {},
   "source": [
    "**Choose a kind of button**"
   ]
  },
  {
   "cell_type": "code",
   "execution_count": null,
   "metadata": {
    "collapsed": true
   },
   "outputs": [],
   "source": [
    "# Add a Toggle: toggle\n",
    "toggle = Toggle(button_type='success', label='Toggle button')\n",
    "\n",
    "# Add a CheckboxGroup: checkbox\n",
    "checkbox = CheckboxGroup(labels=['Option 1', 'Option 2', 'Option 3'])\n",
    "\n",
    "# Add a RadioGroup: radio\n",
    "radio = RadioGroup(labels=['Option 1', 'Option 2', 'Option 3'])\n",
    "\n",
    "# Add widgetbox(toggle, checkbox, radio) to the current document\n",
    "curdoc().add_root(widgetbox(toggle, checkbox, radio))"
   ]
  },
  {
   "cell_type": "markdown",
   "metadata": {
    "collapsed": true
   },
   "source": [
    "**GapMinder App**"
   ]
  },
  {
   "cell_type": "code",
   "execution_count": null,
   "metadata": {
    "collapsed": true
   },
   "outputs": [],
   "source": [
    "# Perform necessary imports\n",
    "from bokeh.io import output_file, show\n",
    "from bokeh.plotting import figure\n",
    "from bokeh.models import HoverTool, ColumnDataSource\n",
    "from bokeh.io import curdoc\n",
    "from bokeh.models import CategoricalColorMapper\n",
    "from bokeh.palettes import Spectral6\n",
    "from bokeh.layouts import widgetbox, row\n",
    "from bokeh.models import Slider\n",
    "\n",
    "\n",
    "# Make the ColumnDataSource: source\n",
    "source = ColumnDataSource(data={\n",
    "    'x'       : data.loc[1970].fertility,\n",
    "    'y'       : data.loc[1970].life,\n",
    "    'country'      : data.loc[1970].Country,\n",
    "    'pop'      : (data.loc[1970].population / 20000000) + 2,\n",
    "    'region'      : data.loc[1970].region,\n",
    "})\n",
    "\n",
    "# Save the minimum and maximum values of the fertility column: xmin, xmax\n",
    "xmin, xmax = min(data.fertility), max(data.fertility)\n",
    "\n",
    "# Save the minimum and maximum values of the life expectancy column: ymin, ymax\n",
    "ymin, ymax = min(data.life), max(data.life)\n",
    "\n",
    "# Create the figure: plot\n",
    "plot = figure(title='Gapminder Data for 1970', plot_height=400, plot_width=700,\n",
    "              x_range=(xmin, xmax), y_range=(ymin, ymax))\n",
    "\n",
    "# Make a list of the unique values from the region column: regions_list\n",
    "regions_list = data.region.unique().tolist()\n",
    "\n",
    "# Make a color mapper: color_mapper\n",
    "color_mapper = CategoricalColorMapper(factors=regions_list, palette=Spectral6)\n",
    "\n",
    "\n",
    "# Add circle glyphs to the plot\n",
    "plot.circle(x='x', y='y', fill_alpha=0.8, source=source,\n",
    "            color=dict(field='region', transform=color_mapper), legend='region')\n",
    "\n",
    "# Set the x-axis label\n",
    "plot.xaxis.axis_label ='Fertility (children per woman)'\n",
    "\n",
    "# Set the y-axis label\n",
    "plot.yaxis.axis_label = 'Life Expectancy (years)'\n",
    "\n",
    "# Set the legend.location attribute of the plot to 'top_right'\n",
    "plot.legend.location = 'top_right'\n",
    "\n",
    "\n",
    "# Create a HoverTool: hover\n",
    "hover = HoverTool(tooltips=[('Country', '@country')])\n",
    "\n",
    "# Add the HoverTool to the plot\n",
    "plot.add_tools(hover)\n",
    "\n",
    "\n",
    "\n",
    "\n",
    "# Define the callback function: update_plot\n",
    "def update_plot(attr, old, new):\n",
    "    # Read the current value off the slider and 2 dropdowns: yr, x, y\n",
    "    yr = slider.value\n",
    "    x = x_select.value\n",
    "    y = y_select.value\n",
    "    # Label axes of plot\n",
    "    plot.xaxis.axis_label = x\n",
    "    plot.yaxis.axis_label = y\n",
    "    new_data = {\n",
    "        'x'       : data.loc[yr].fertility,\n",
    "        'y'       : data.loc[yr].life,\n",
    "        'country' : data.loc[yr].Country,\n",
    "        'pop'     : (data.loc[yr].population / 20000000) + 2,\n",
    "        'region'  : data.loc[yr].region,\n",
    "    }\n",
    "    # Assign new_data to: source.data\n",
    "    source_data = new_data\n",
    "    \n",
    "    # Set the range of all axes\n",
    "    plot.x_range.start = min(data[x])\n",
    "    plot.x_range.end = max(data[x])\n",
    "    plot.y_range.start = min(data[y])\n",
    "    plot.y_range.end = max(data[y])\n",
    "    \n",
    "    # Add title to figure: plot.title.text\n",
    "    plot.title.text = 'Gapminder data for %d' % yr\n",
    "\n",
    "\n",
    "# Make a slider object: slider\n",
    "slider = Slider(start=1970, end=2010, step=1, value=1970, title='Year')\n",
    "\n",
    "# Attach the callback to the 'value' property of slider\n",
    "slider.on_change('value', update_plot)\n",
    "\n",
    "\n",
    "\n",
    "# Create a dropdown Select widget for the x data: x_select\n",
    "x_select = Select(\n",
    "    options=['fertility', 'life', 'child_mortality', 'gdp'],\n",
    "    value='fertility',\n",
    "    title='x-axis data'\n",
    ")\n",
    "\n",
    "# Attach the update_plot callback to the 'value' property of x_select\n",
    "x_select.on_change('value', update_plot)\n",
    "\n",
    "# Create a dropdown Select widget for the y data: y_select\n",
    "y_select = Select(\n",
    "    options=['fertility', 'life', 'child_mortality', 'gdp'],\n",
    "    value='life',\n",
    "    title='y-axis data'\n",
    ")\n",
    "\n",
    "# Attach the update_plot callback to the 'value' property of y_select\n",
    "y_select.on_change('value', update_plot)\n",
    "\n",
    "\n",
    "\n",
    "# Make a row layout of widgetbox(slider) and plot and add it to the current document\n",
    "layout = row(widgetbox(slider, x_select, y_select), plot)\n",
    "\n",
    "# Add the plot to the current document and add a title\n",
    "curdoc().add_root(layout)\n",
    "curdoc().title = 'Gapminder'"
   ]
  },
  {
   "cell_type": "code",
   "execution_count": null,
   "metadata": {
    "collapsed": true
   },
   "outputs": [],
   "source": [
    "bokeh serve --show myapp.py"
   ]
  },
  {
   "cell_type": "code",
   "execution_count": null,
   "metadata": {
    "collapsed": true
   },
   "outputs": [],
   "source": []
  },
  {
   "cell_type": "code",
   "execution_count": null,
   "metadata": {
    "collapsed": true
   },
   "outputs": [],
   "source": []
  },
  {
   "cell_type": "code",
   "execution_count": null,
   "metadata": {
    "collapsed": true
   },
   "outputs": [],
   "source": []
  },
  {
   "cell_type": "code",
   "execution_count": null,
   "metadata": {
    "collapsed": true
   },
   "outputs": [],
   "source": []
  }
 ],
 "metadata": {
  "kernelspec": {
   "display_name": "Python 3",
   "language": "python",
   "name": "python3"
  },
  "language_info": {
   "codemirror_mode": {
    "name": "ipython",
    "version": 3
   },
   "file_extension": ".py",
   "mimetype": "text/x-python",
   "name": "python",
   "nbconvert_exporter": "python",
   "pygments_lexer": "ipython3",
   "version": "3.6.2"
  }
 },
 "nbformat": 4,
 "nbformat_minor": 2
}
